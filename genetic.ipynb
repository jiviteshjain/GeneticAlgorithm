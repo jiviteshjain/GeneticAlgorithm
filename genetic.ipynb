{
 "cells": [
  {
   "cell_type": "code",
   "execution_count": 68,
   "metadata": {},
   "outputs": [],
   "source": [
    "import numpy as np\n",
    "import matplotlib.pyplot as plt\n",
    "import client_moodle as server\n",
    "%matplotlib inline"
   ]
  },
  {
   "cell_type": "code",
   "execution_count": 69,
   "metadata": {},
   "outputs": [],
   "source": [
    "# constants\n",
    "TEAM_ID = 'dGtgGZhUiTAytVHtKMwFEbEBZl9vcBwrsP5rOSTTrLQuOsDAY2'\n",
    "\n",
    "GENE_MIN = -10\n",
    "GENE_MAX = 10\n",
    "\n",
    "CHROMOSOME_SIZE = 11\n",
    "POPULATION_SIZE = 16 # Keep power of 2\n",
    "\n",
    "GAUSS_NOISE_MEAN = 0.0\n",
    "GAUSS_NOISE_STD = 0.1\n",
    "\n",
    "MUTATE_PROB = 0.1\n",
    "\n",
    "NUM_GENERATIONS = 20"
   ]
  },
  {
   "cell_type": "code",
   "execution_count": 70,
   "metadata": {},
   "outputs": [
    {
     "data": {
      "text/plain": [
       "11"
      ]
     },
     "execution_count": 70,
     "metadata": {},
     "output_type": "execute_result"
    }
   ],
   "source": [
    "INITIAL_WEIGHTS = [0.0, 0.1240317450077846, -6.211941063144333, 0.04933903144709126, 0.03810848157715883, 8.132366097133624e-05, -6.018769160916912e-05, -1.251585565299179e-07, 3.484096383229681e-08, 4.1614924993407104e-11, -6.732420176902565e-12]\n",
    "len(INITIAL_WEIGHTS)"
   ]
  },
  {
   "cell_type": "code",
   "execution_count": 71,
   "metadata": {},
   "outputs": [],
   "source": [
    "class Darwin:\n",
    "    '''\n",
    "    This class encapsulates a genetic algorithm runner over population consisting of weight vectors\n",
    "    '''\n",
    "    CHROMOSOME_SIZE = CHROMOSOME_SIZE\n",
    "    POPULATION_SIZE = POPULATION_SIZE\n",
    "\n",
    "    def __init__(self, val: list):\n",
    "        if len(val) != self.CHROMOSOME_SIZE:\n",
    "            raise ValueError\n",
    "\n",
    "        self.population = self.generate_random_from_seed(val)\n",
    "        self.avg_fitness = [] # maintained across generations\n",
    "        self.max_fitness_across_generations = None\n",
    "        self.best_chromosome_across_generations = None\n",
    "\n",
    "    def generate_random_from_seed(self, val: list) -> np.ndarray:\n",
    "        '''\n",
    "        Generates a population from a single seed chromosome\n",
    "        '''\n",
    "        if len(val) != self.CHROMOSOME_SIZE:\n",
    "            raise ValueError\n",
    "        \n",
    "        temp = [list(val) for i in range(self.POPULATION_SIZE)]\n",
    "        temp = np.array(temp, dtype=np.double)\n",
    "\n",
    "        noise = np.random.normal(\n",
    "            loc=GAUSS_NOISE_MEAN,\n",
    "            scale=GAUSS_NOISE_STD,\n",
    "            size=(self.POPULATION_SIZE, self.CHROMOSOME_SIZE)\n",
    "        )\n",
    "\n",
    "        return np.clip(noise + temp, GENE_MIN, GENE_MAX)\n",
    "\n",
    "    def get_fitness(self):\n",
    "\n",
    "        def error_to_fitness(train_err, valid_err):\n",
    "            return -valid_err\n",
    "\n",
    "        fitness = []\n",
    "        for chrom in self.population:\n",
    "            train_err, valid_err = server.get_errors(TEAM_ID, list(chrom))\n",
    "            fitness.append(error_to_fitness(train_err, valid_err))\n",
    "\n",
    "        fitness = np.array(fitness, dtype=np.double)\n",
    "        return fitness\n",
    "\n",
    "    @classmethod\n",
    "    def crossover(self, mom: np.ndarray, dad: np.ndarray):\n",
    "        '''\n",
    "        Generates offsprings out of the two parents\n",
    "        '''\n",
    "\n",
    "        def random_prefix(mom: np.ndarray, dad: np.ndarray):\n",
    "            '''\n",
    "            Random prefixes and suffixes\n",
    "            '''\n",
    "            thresh = np.random.randint(self.CHROMOSOME_SIZE) # index\n",
    "\n",
    "            alice = np.copy(dad) # mom mom dad\n",
    "            bob = np.copy(mom) # dad dad mom\n",
    "\n",
    "            alice[0:thresh] = mom[0:thresh]\n",
    "            bob[0:thresh] = dad[0:thresh]\n",
    "\n",
    "            return alice, bob\n",
    "\n",
    "        return random_prefix(mom, dad)\n",
    "\n",
    "    @classmethod\n",
    "    def mutate(self, population: np.ndarray):\n",
    "        '''\n",
    "        Mutates the population randomly\n",
    "        '''\n",
    "        \n",
    "        def add_gauss_noise(population: np.ndarray):\n",
    "            '''\n",
    "            Adds a gaussian noise to some of the elements\n",
    "            '''\n",
    "            means = np.mean(population, axis=0) # mean of each gene across the population - to keep mutations of level\n",
    "            \n",
    "            # TODO: vectorise\n",
    "            for idx, val in np.ndenumerate(population):\n",
    "                if np.random.random() < MUTATE_PROB:\n",
    "                    noise = np.random.normal(loc=means[idx[1]], scale=GAUSS_NOISE_STD)\n",
    "                    population[idx] += noise\n",
    "\n",
    "            return np.clip(population, GENE_MIN, GENE_MAX)\n",
    "\n",
    "        return add_gauss_noise(population)\n",
    "\n",
    "\n",
    "    def breed(self):\n",
    "        '''\n",
    "        Creates the next generation\n",
    "        '''\n",
    "\n",
    "        def russian_roulette():\n",
    "            '''\n",
    "            Whenever a parent is required, one is selected with probability proportional to fitness\n",
    "            '''\n",
    "\n",
    "            def get_parent_index(thresholds):\n",
    "                draw = np.random.random() # in [0, 1)\n",
    "\n",
    "                for i in range(len(thresholds)):\n",
    "                    if draw < thresholds[i]:\n",
    "                        return i\n",
    "                return len(thresholds) - 1    \n",
    "            \n",
    "            fitness = self.get_fitness()\n",
    "            normalized_fitness = (fitness - np.min(fitness)) / np.ptp(fitness) # in [0,1]\n",
    "            \n",
    "            self.avg_fitness.append(np.mean(fitness))\n",
    "            self.update_best(fitness)\n",
    "\n",
    "            thresholds = []\n",
    "            thresh = 0.0\n",
    "            fitness_sum = np.sum(normalized_fitness)\n",
    "            for val in normalized_fitness:\n",
    "                thresh = thresh + (val/fitness_sum)\n",
    "                thresholds.append(thresh)\n",
    "\n",
    "            offsprings = []\n",
    "            for i in range(int(self.POPULATION_SIZE / 2)):\n",
    "                mom = self.population[get_parent_index(thresholds)]\n",
    "                dad = self.population[get_parent_index(thresholds)]\n",
    "\n",
    "                alice, bob = self.crossover(mom, dad)\n",
    "                offsprings.append(alice)\n",
    "                offsprings.append(bob)\n",
    "            return np.array(offsprings, dtype=np.double)\n",
    "        \n",
    "\n",
    "        offsprings = russian_roulette()\n",
    "        self.population = self.mutate(offsprings)\n",
    "    \n",
    "    def update_best(self, fitness: np.ndarray):\n",
    "        '''\n",
    "        Updates the best chromosome across generations parameter from self.population\n",
    "        '''\n",
    "        best_idx = np.argmax(fitness)\n",
    "        if (not self.max_fitness_across_generations) or fitness[best_idx] > self.max_fitness_across_generations:\n",
    "            self.max_fitness_across_generations = fitness[best_idx]\n",
    "            self.best_chromosome_across_generations = self.population[best_idx]\n",
    "\n",
    "    def train(self):\n",
    "\n",
    "        for i in range(NUM_GENERATIONS):\n",
    "            self.breed()\n",
    "\n",
    "        plt.plot(self.avg_fitness)\n",
    "        plt.xlabel('Generations', fontsize=12)\n",
    "        plt.ylabel('Average Fitness', fontsize=12)\n",
    "        plt.title('Average Fitness across Generations', fontsize=14)\n",
    "        plt.show()\n",
    "\n",
    "        # haven't calculated the fitness of the final population\n",
    "        fitness = self.get_fitness()\n",
    "        self.update_best(fitness)\n",
    "        \n",
    "        return self.best_chromosome_across_generations, self.max_fitness_across_generations\n"
   ]
  },
  {
   "cell_type": "code",
   "execution_count": 72,
   "metadata": {},
   "outputs": [],
   "source": [
    "class GenecticAlgorithm:\n",
    "    '''\n",
    "    This class encapsulates all the methods of a genectic algorithm\n",
    "    '''\n",
    "    def __init__(self):\n",
    "        pass\n",
    "    \n",
    "    def calculate_fitness(self,weights):\n",
    "        # returns a list of fitness score for each of the weight vector\n",
    "        # The fitness will be calculated using the client_mooodle.py\n",
    "        pass\n",
    "    \n",
    "    def crossover(self, parents, offspringSize):\n",
    "        # generates new children from parents\n",
    "        # there are various methods of doing it, blend, one-point,two-point, uniform. we need to try these.\n",
    "        # also keep some of the original parents in the vector so that the new generation performs at least as good the previous one.\n",
    "        pass\n",
    "    \n",
    "    def mutation(self, weights):\n",
    "        # introduces mutation in the weights\n",
    "        # randomly change the number by addind some random noise to maybe two-three weights in the weight vector.\n",
    "        # but the noise has to be scaled to the level of weight to which we are adding it.\n",
    "        pass\n",
    "    \n",
    "    def mating_pool(self, weights, fitness, numberOfParents):\n",
    "        # selects the best parents for reproducing new generations\n",
    "        # get the best parents by using the fitness scores, this method will not produce new offspring\n",
    "        pass\n",
    "    "
   ]
  },
  {
   "cell_type": "code",
   "execution_count": 73,
   "metadata": {},
   "outputs": [],
   "source": [
    "darwin = Darwin(INITIAL_WEIGHTS)"
   ]
  },
  {
   "cell_type": "code",
   "execution_count": 74,
   "metadata": {},
   "outputs": [
    {
     "data": {
      "image/png": "[encoded data removed]",
      "text/plain": [
       "<Figure size 432x288 with 1 Axes>"
      ]
     },
     "metadata": {
      "needs_background": "light"
     },
     "output_type": "display_data"
    }
   ],
   "source": [
    "best_chromosome, final_fitness = darwin.train()"
   ]
  },
  {
   "cell_type": "code",
   "execution_count": 75,
   "metadata": {},
   "outputs": [
    {
     "data": {
      "text/plain": [
       "-7.668816116267021e+27"
      ]
     },
     "execution_count": 75,
     "metadata": {},
     "output_type": "execute_result"
    }
   ],
   "source": [
    "final_fitness"
   ]
  },
  {
   "cell_type": "code",
   "execution_count": 80,
   "metadata": {},
   "outputs": [
    {
     "data": {
      "text/plain": [
       "array([ 3.26087355e-01,  3.28325147e-01, -1.00000000e+01,  6.70397819e-01,\n",
       "       -3.99468844e-01,  6.23847751e-02, -3.78318545e-01, -2.28490414e-01,\n",
       "       -3.32618915e-01,  1.41652489e-01,  9.23586106e-04])"
      ]
     },
     "execution_count": 80,
     "metadata": {},
     "output_type": "execute_result"
    }
   ],
   "source": [
    "best_chromosome"
   ]
  },
  {
   "cell_type": "code",
   "execution_count": 81,
   "metadata": {},
   "outputs": [
    {
     "ename": "KeyboardInterrupt",
     "evalue": "Interrupted by user",
     "output_type": "error",
     "traceback": [
      "\u001b[0;31m---------------------------------------------------------------------------\u001b[0m",
      "\u001b[0;31mKeyboardInterrupt\u001b[0m                         Traceback (most recent call last)",
      "\u001b[0;32m<ipython-input-81-9c8b639daf2f>\u001b[0m in \u001b[0;36m<module>\u001b[0;34m\u001b[0m\n\u001b[0;32m----> 1\u001b[0;31m \u001b[0minput\u001b[0m\u001b[0;34m(\u001b[0m\u001b[0;34m)\u001b[0m\u001b[0;34m\u001b[0m\u001b[0;34m\u001b[0m\u001b[0m\n\u001b[0m",
      "\u001b[0;32m~/Documents/IIIT/Sem-4/MDL/Assignment-3/GeneticAlgorithm/env/lib/python3.6/site-packages/ipykernel/kernelbase.py\u001b[0m in \u001b[0;36mraw_input\u001b[0;34m(self, prompt)\u001b[0m\n\u001b[1;32m    861\u001b[0m             \u001b[0mself\u001b[0m\u001b[0;34m.\u001b[0m\u001b[0m_parent_ident\u001b[0m\u001b[0;34m,\u001b[0m\u001b[0;34m\u001b[0m\u001b[0;34m\u001b[0m\u001b[0m\n\u001b[1;32m    862\u001b[0m             \u001b[0mself\u001b[0m\u001b[0;34m.\u001b[0m\u001b[0m_parent_header\u001b[0m\u001b[0;34m,\u001b[0m\u001b[0;34m\u001b[0m\u001b[0;34m\u001b[0m\u001b[0m\n\u001b[0;32m--> 863\u001b[0;31m             \u001b[0mpassword\u001b[0m\u001b[0;34m=\u001b[0m\u001b[0;32mFalse\u001b[0m\u001b[0;34m,\u001b[0m\u001b[0;34m\u001b[0m\u001b[0;34m\u001b[0m\u001b[0m\n\u001b[0m\u001b[1;32m    864\u001b[0m         )\n\u001b[1;32m    865\u001b[0m \u001b[0;34m\u001b[0m\u001b[0m\n",
      "\u001b[0;32m~/Documents/IIIT/Sem-4/MDL/Assignment-3/GeneticAlgorithm/env/lib/python3.6/site-packages/ipykernel/kernelbase.py\u001b[0m in \u001b[0;36m_input_request\u001b[0;34m(self, prompt, ident, parent, password)\u001b[0m\n\u001b[1;32m    891\u001b[0m             \u001b[0;32mexcept\u001b[0m \u001b[0mKeyboardInterrupt\u001b[0m\u001b[0;34m:\u001b[0m\u001b[0;34m\u001b[0m\u001b[0;34m\u001b[0m\u001b[0m\n\u001b[1;32m    892\u001b[0m                 \u001b[0;31m# re-raise KeyboardInterrupt, to truncate traceback\u001b[0m\u001b[0;34m\u001b[0m\u001b[0;34m\u001b[0m\u001b[0;34m\u001b[0m\u001b[0m\n\u001b[0;32m--> 893\u001b[0;31m                 \u001b[0;32mraise\u001b[0m \u001b[0mKeyboardInterrupt\u001b[0m\u001b[0;34m(\u001b[0m\u001b[0;34m\"Interrupted by user\"\u001b[0m\u001b[0;34m)\u001b[0m \u001b[0;32mfrom\u001b[0m \u001b[0;32mNone\u001b[0m\u001b[0;34m\u001b[0m\u001b[0;34m\u001b[0m\u001b[0m\n\u001b[0m\u001b[1;32m    894\u001b[0m             \u001b[0;32melse\u001b[0m\u001b[0;34m:\u001b[0m\u001b[0;34m\u001b[0m\u001b[0;34m\u001b[0m\u001b[0m\n\u001b[1;32m    895\u001b[0m                 \u001b[0;32mbreak\u001b[0m\u001b[0;34m\u001b[0m\u001b[0;34m\u001b[0m\u001b[0m\n",
      "\u001b[0;31mKeyboardInterrupt\u001b[0m: Interrupted by user"
     ]
    }
   ],
   "source": [
    "input()\n",
    "# to prevent submissions on running all cells"
   ]
  },
  {
   "cell_type": "code",
   "execution_count": 77,
   "metadata": {},
   "outputs": [
    {
     "data": {
      "text/plain": [
       "'successfully submitted'"
      ]
     },
     "execution_count": 77,
     "metadata": {},
     "output_type": "execute_result"
    }
   ],
   "source": [
    "status = server.submit(TEAM_ID, list(best_chromosome))\n",
    "status"
   ]
  },
  {
   "cell_type": "code",
   "execution_count": null,
   "metadata": {},
   "outputs": [],
   "source": []
  }
 ],
 "metadata": {
  "kernelspec": {
   "display_name": "Python 3",
   "language": "python",
   "name": "python3"
  },
  "language_info": {
   "codemirror_mode": {
    "name": "ipython",
    "version": 3
   },
   "file_extension": ".py",
   "mimetype": "text/x-python",
   "name": "python",
   "nbconvert_exporter": "python",
   "pygments_lexer": "ipython3",
   "version": "3.6.8"
  }
 },
 "nbformat": 4,
 "nbformat_minor": 4
}
