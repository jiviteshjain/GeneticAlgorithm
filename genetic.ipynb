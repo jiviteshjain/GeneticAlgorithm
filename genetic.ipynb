{
 "cells": [
  {
   "cell_type": "code",
   "execution_count": 1,
   "metadata": {},
   "outputs": [],
   "source": [
    "import numpy as np\n",
    "import matplotlib.pyplot as plt\n",
    "import client_moodle as server\n",
    "%matplotlib inline"
   ]
  },
  {
   "cell_type": "code",
   "execution_count": 2,
   "metadata": {},
   "outputs": [],
   "source": [
    "# constants\n",
    "TEAM_ID = 'dGtgGZhUiTAytVHtKMwFEbEBZl9vcBwrsP5rOSTTrLQuOsDAY2'\n",
    "\n",
    "GENE_MIN = -10\n",
    "GENE_MAX = 10\n",
    "\n",
    "CHROMOSOME_SIZE = 11\n",
    "POPULATION_SIZE = 16 # Keep power of 2\n",
    "\n",
    "# GAUSS_NOISE_MEAN = 0.0\n",
    "# GAUSS_NOISE_STD = 1\n",
    "\n",
    "MUTATE_PROB = 0.3\n",
    "\n",
    "NUM_GENERATIONS = 20"
   ]
  },
  {
   "cell_type": "code",
   "execution_count": 3,
   "metadata": {},
   "outputs": [
    {
     "data": {
      "text/plain": [
       "11"
      ]
     },
     "execution_count": 3,
     "metadata": {},
     "output_type": "execute_result"
    }
   ],
   "source": [
    "INITIAL_WEIGHTS =[ 0.00000000e+00,  1.00000000e+01, -4.75249740e+00,  3.95706793e-02,2.74864129e-02,  5.85831977e-05, -4.31645737e-05, -9.00429955e-08,2.50931038e-08,  2.92449651e-11, -4.85438488e-12]\n",
    "\n",
    "len(INITIAL_WEIGHTS)"
   ]
  },
  {
   "cell_type": "code",
   "execution_count": 4,
   "metadata": {},
   "outputs": [],
   "source": [
    "def generate_random_from_seed(val: list) -> np.ndarray:\n",
    "        '''\n",
    "        Generates a population from a single seed chromosome\n",
    "        '''\n",
    "        \n",
    "        temp = [list(val) for i in range(POPULATION_SIZE)]\n",
    "        temp = np.array(temp, dtype=np.double)\n",
    "        \n",
    "        for idx, val in np.ndenumerate(temp):\n",
    "            noise = np.random.normal(loc=temp[idx]/10, scale=abs(temp[idx])/10)\n",
    "            temp[idx] += noise\n",
    "\n",
    "        np.clip(noise + temp, GENE_MIN, GENE_MAX)\n",
    "\n",
    "generate_random_from_seed(INITIAL_WEIGHTS)"
   ]
  },
  {
   "cell_type": "code",
   "execution_count": 5,
   "metadata": {},
   "outputs": [],
   "source": [
    "class Darwin:\n",
    "    '''\n",
    "    This class encapsulates a genetic algorithm runner over population consisting of weight vectors\n",
    "    '''\n",
    "    CHROMOSOME_SIZE = CHROMOSOME_SIZE\n",
    "    POPULATION_SIZE = POPULATION_SIZE\n",
    "\n",
    "    def __init__(self, val: list):\n",
    "        if len(val) != self.CHROMOSOME_SIZE:\n",
    "            raise ValueError\n",
    "\n",
    "        self.population = self.generate_random_from_seed(val)\n",
    "        self.avg_fitness = [] # maintained across generations\n",
    "        self.weight_fitness_map = [] # consists of tuples (vector,fitness)\n",
    "        self.max_fitness_across_generations = None\n",
    "        self.best_chromosome_across_generations = None\n",
    "\n",
    "    def generate_random_from_seed(self, val: list) -> np.ndarray:\n",
    "        '''\n",
    "        Generates a population from a single seed chromosome\n",
    "        '''\n",
    "        if len(val) != self.CHROMOSOME_SIZE:\n",
    "            raise ValueError\n",
    "        \n",
    "        temp = [list(val) for i in range(self.POPULATION_SIZE)]\n",
    "        temp = np.array(temp, dtype=np.double)\n",
    "        \n",
    "        for idx, val in np.ndenumerate(temp):\n",
    "            noise = np.random.normal(loc=temp[idx]/10, scale=abs(temp[idx])/10)\n",
    "            temp[idx] += noise\n",
    "\n",
    "        return np.clip(noise + temp, GENE_MIN, GENE_MAX)\n",
    "\n",
    "    def get_fitness(self):\n",
    "        \n",
    "        # try changing this error_to_fitness function\n",
    "        def error_to_fitness(train_err, valid_err):\n",
    "            return -valid_err\n",
    "        \n",
    "        def errot_to_fitness1(train_err, valid_err):\n",
    "            return -(train_err*valid_err)/(train_err + valid_err)\n",
    "\n",
    "        fitness = []\n",
    "        weight_fitness = []\n",
    "        for chrom in self.population:\n",
    "            train_err, valid_err = server.get_errors(TEAM_ID, list(chrom))\n",
    "            fit = error_to_fitness(train_err, valid_err)\n",
    "            fitness.append(fit)\n",
    "            weight_fitness.append((chrom,fit))\n",
    "\n",
    "        fitness = np.array(fitness, dtype=np.double)\n",
    "        self.weight_fitness_map = weight_fitness\n",
    "        return fitness\n",
    "\n",
    "    @classmethod\n",
    "    def crossover(self, mom: np.ndarray, dad: np.ndarray):\n",
    "        '''\n",
    "        Generates offsprings out of the two parents\n",
    "        '''\n",
    "\n",
    "        def random_prefix(mom: np.ndarray, dad: np.ndarray):\n",
    "            '''\n",
    "            Random prefixes and suffixes\n",
    "            '''\n",
    "            thresh = np.random.randint(self.CHROMOSOME_SIZE) # index\n",
    "\n",
    "            alice = np.copy(dad) # mom mom dad\n",
    "            bob = np.copy(mom) # dad dad mom\n",
    "\n",
    "            alice[0:thresh] = mom[0:thresh]\n",
    "            bob[0:thresh] = dad[0:thresh]\n",
    "\n",
    "            return alice, bob\n",
    "\n",
    "        return random_prefix(mom, dad)\n",
    "\n",
    "    @classmethod\n",
    "    def mutate(self, population: np.ndarray):\n",
    "        '''\n",
    "        Mutates the population randomly\n",
    "        '''\n",
    "        \n",
    "        def add_gauss_noise(population: np.ndarray):\n",
    "            '''\n",
    "            Adds a gaussian noise to some of the elements\n",
    "            '''\n",
    "            means = np.mean(population, axis=0) # mean of each gene across the population - to keep mutations of level\n",
    "            \n",
    "            # TODO: vectorise\n",
    "            for idx, val in np.ndenumerate(population):\n",
    "                if np.random.random() < MUTATE_PROB:\n",
    "                    noise = np.random.normal(loc=means[idx[1]]/10, scale=abs(means[idx[1]])/10)\n",
    "                    population[idx] += noise\n",
    "\n",
    "            return np.clip(population, GENE_MIN, GENE_MAX)\n",
    "        \n",
    "        def add_uniform_noise(population: np.ndarray):\n",
    "            \n",
    "            means = np.mean(population, axis=0)\n",
    "            delta = means/20 # to get the five percent of it\n",
    "            \n",
    "            for weights in population:\n",
    "                # add or subtract 5 percent of the mean\n",
    "                guess = random.randint(0,2)\n",
    "                noise = np.random.uniform(means - delta, means + delta)\n",
    "                if guess == 1:\n",
    "                    # add the uniformly generated noise\n",
    "                    weights = weights + noise\n",
    "                else:\n",
    "                    weights = weights - noise\n",
    "                \n",
    "        return add_gauss_noise(population)\n",
    "\n",
    "\n",
    "    def breed(self):\n",
    "        '''\n",
    "        Creates the next generation\n",
    "        '''\n",
    "\n",
    "        def russian_roulette():\n",
    "            '''\n",
    "            Whenever a parent is required, one is selected with probability proportional to fitness\n",
    "            '''\n",
    "\n",
    "            def get_parent_index(thresholds):\n",
    "                draw = np.random.random() # in [0, 1)\n",
    "\n",
    "                for i in range(len(thresholds)):\n",
    "                    if draw < thresholds[i]:\n",
    "                        return i\n",
    "                return len(thresholds) - 1    \n",
    "            \n",
    "            fitness = self.get_fitness()\n",
    "            normalized_fitness = (fitness - np.min(fitness)) / np.ptp(fitness) # in [0,1]\n",
    "            \n",
    "            self.avg_fitness.append(np.mean(fitness))\n",
    "            self.update_best(fitness)\n",
    "\n",
    "            thresholds = []\n",
    "            thresh = 0.0\n",
    "            fitness_sum = np.sum(normalized_fitness)\n",
    "            for val in normalized_fitness:\n",
    "                thresh = thresh + (val/fitness_sum)\n",
    "                thresholds.append(thresh)\n",
    "\n",
    "            offsprings = []\n",
    "            for i in range(int(self.POPULATION_SIZE / 2)):\n",
    "                mom = self.population[get_parent_index(thresholds)]\n",
    "                dad = self.population[get_parent_index(thresholds)]\n",
    "\n",
    "                alice, bob = self.crossover(mom, dad)\n",
    "                offsprings.append(alice)\n",
    "                offsprings.append(bob)\n",
    "            return np.array(offsprings, dtype=np.double)\n",
    "        \n",
    "        def Sort_Tuple(tup):\n",
    "            tup.sort(key = lambda x: x[1])  \n",
    "            return tup  \n",
    "        \n",
    "        \n",
    "        def normal_breed():\n",
    "            # use the 1 best parent from previous population and breed using 6 vectors to get 6C2 = 15 new children\n",
    "            fitness = self.get_fitness()\n",
    "            self.weight_fitness_map = Sort_Tuple(self.weight_fitness_map)\n",
    "            self.weight_fitness_map.reverse()\n",
    "            normalized_fitness = (fitness - np.min(fitness)) / np.ptp(fitness) # in [0,1]\n",
    "            \n",
    "            self.avg_fitness.append(np.mean(fitness))\n",
    "            self.update_best(fitness)\n",
    "            \n",
    "            offsprings = []\n",
    "            for i in range(6):\n",
    "                for j in range(i+1,6):\n",
    "                    mom = self.weight_fitness_map[i][0]\n",
    "                    dad = self.weight_fitness_map[j][0]\n",
    "                    \n",
    "                    alice, bob = self.crossover(mom,dad)\n",
    "                    offsprings.append(alice)\n",
    "                    offsprings.append(bob)\n",
    "            \n",
    "            offsprings.append(self.weight_fitness_map[0][0]) # this adds the best from the previous population\n",
    "            return np.array(offsprings, dtype=np.double)\n",
    "        \n",
    "        offsprings = normal_breed()\n",
    "        self.population = self.mutate(offsprings)\n",
    "    \n",
    "    def update_best(self, fitness: np.ndarray):\n",
    "        '''\n",
    "        Updates the best chromosome across generations parameter from self.population\n",
    "        '''\n",
    "        best_idx = np.argmax(fitness)\n",
    "        if (not self.max_fitness_across_generations) or fitness[best_idx] > self.max_fitness_across_generations:\n",
    "            self.max_fitness_across_generations = fitness[best_idx]\n",
    "            self.best_chromosome_across_generations = self.population[best_idx]\n",
    "\n",
    "    def train(self):\n",
    "\n",
    "        for i in range(NUM_GENERATIONS):\n",
    "            self.breed()\n",
    "\n",
    "        plt.plot(self.avg_fitness)\n",
    "        plt.xlabel('Generations', fontsize=12)\n",
    "        plt.ylabel('Average Fitness', fontsize=12)\n",
    "        plt.title('Average Fitness across Generations', fontsize=14)\n",
    "        plt.show()\n",
    "\n",
    "        # haven't calculated the fitness of the final population\n",
    "        fitness = self.get_fitness()\n",
    "        self.update_best(fitness)\n",
    "        \n",
    "        return self.best_chromosome_across_generations, self.max_fitness_across_generations\n"
   ]
  },
  {
   "cell_type": "code",
   "execution_count": 6,
   "metadata": {},
   "outputs": [
    {
     "data": {
      "text/plain": [
       "array([-1.15052511e-12,  1.00000000e+01, -6.18217805e+00,  3.47801645e-02,\n",
       "        2.52127977e-02,  6.56892898e-05, -5.96427711e-05, -1.03670969e-07,\n",
       "        3.07888262e-08,  3.29050974e-11, -6.71222030e-12])"
      ]
     },
     "execution_count": 6,
     "metadata": {},
     "output_type": "execute_result"
    }
   ],
   "source": [
    "darwin = Darwin(INITIAL_WEIGHTS)\n",
    "darwin.population[0]"
   ]
  },
  {
   "cell_type": "code",
   "execution_count": 7,
   "metadata": {},
   "outputs": [
    {
     "data": {
      "image/png": "[encoded data removed]",
      "text/plain": [
       "<Figure size 432x288 with 1 Axes>"
      ]
     },
     "metadata": {
      "needs_background": "light"
     },
     "output_type": "display_data"
    }
   ],
   "source": [
    "best_chromosome, final_fitness = darwin.train()"
   ]
  },
  {
   "cell_type": "code",
   "execution_count": 8,
   "metadata": {},
   "outputs": [
    {
     "data": {
      "text/plain": [
       "-174544.43798318336"
      ]
     },
     "execution_count": 8,
     "metadata": {},
     "output_type": "execute_result"
    }
   ],
   "source": [
    "final_fitness"
   ]
  },
  {
   "cell_type": "code",
   "execution_count": 9,
   "metadata": {},
   "outputs": [
    {
     "data": {
      "text/plain": [
       "array([-1.15052511e-12,  1.00000000e+01, -6.56109705e+00,  5.19446152e-02,\n",
       "        3.23767582e-02,  1.10489494e-04, -5.15805464e-05, -1.37563798e-07,\n",
       "        3.09509786e-08,  3.81650882e-11, -6.16236114e-12])"
      ]
     },
     "execution_count": 9,
     "metadata": {},
     "output_type": "execute_result"
    }
   ],
   "source": [
    "best_chromosome"
   ]
  },
  {
   "cell_type": "code",
   "execution_count": 10,
   "metadata": {},
   "outputs": [
    {
     "name": "stdout",
     "output_type": "stream",
     "text": [
      "\n"
     ]
    },
    {
     "data": {
      "text/plain": [
       "''"
      ]
     },
     "execution_count": 10,
     "metadata": {},
     "output_type": "execute_result"
    }
   ],
   "source": [
    "input()\n",
    "# to prevent submissions on running all cells"
   ]
  },
  {
   "cell_type": "code",
   "execution_count": 12,
   "metadata": {},
   "outputs": [
    {
     "data": {
      "text/plain": [
       "'successfully submitted'"
      ]
     },
     "execution_count": 12,
     "metadata": {},
     "output_type": "execute_result"
    }
   ],
   "source": [
    "status = server.submit(TEAM_ID, list(best_chromosome))\n",
    "status"
   ]
  },
  {
   "cell_type": "code",
   "execution_count": null,
   "metadata": {},
   "outputs": [],
   "source": []
  }
 ],
 "metadata": {
  "kernelspec": {
   "display_name": "Python 3",
   "language": "python",
   "name": "python3"
  },
  "language_info": {
   "codemirror_mode": {
    "name": "ipython",
    "version": 3
   },
   "file_extension": ".py",
   "mimetype": "text/x-python",
   "name": "python",
   "nbconvert_exporter": "python",
   "pygments_lexer": "ipython3",
   "version": "3.7.5"
  }
 },
 "nbformat": 4,
 "nbformat_minor": 4
}
