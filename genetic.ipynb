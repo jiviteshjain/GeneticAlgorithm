{
 "cells": [
  {
   "cell_type": "code",
   "execution_count": 1,
   "metadata": {},
   "outputs": [],
   "source": [
    "import numpy as np"
   ]
  },
  {
   "cell_type": "code",
   "execution_count": 9,
   "metadata": {},
   "outputs": [
    {
     "data": {
      "text/plain": [
       "11"
      ]
     },
     "execution_count": 9,
     "metadata": {},
     "output_type": "execute_result"
    }
   ],
   "source": [
    "weights = [0.0, 0.1240317450077846, -6.211941063144333, 0.04933903144709126, 0.03810848157715883, 8.132366097133624e-05, -6.018769160916912e-05, -1.251585565299179e-07, 3.484096383229681e-08, 4.1614924993407104e-11, -6.732420176902565e-12]\n",
    "len(weights)"
   ]
  },
  {
   "cell_type": "code",
   "execution_count": null,
   "metadata": {},
   "outputs": [],
   "source": [
    "class GenecticAlgorithm:\n",
    "    '''\n",
    "    This class encapsulates all the methods of a genectic algorithm\n",
    "    '''\n",
    "    def __init__(self):\n",
    "        pass\n",
    "    \n",
    "    def calculate_fitness(self,weights):\n",
    "        # returns a list of fitness score for each of the weight vector\n",
    "        # The fitness will be calculated using the client_mooodle.py\n",
    "        pass\n",
    "    \n",
    "    def crossover(self, parents, offspringSize):\n",
    "        # generates new children from parents\n",
    "        # there are various methods of doing it, blend, one-point,two-point, uniform. we need to try these.\n",
    "        # also keep some of the original parents in the vector so that the new generation performs at least as good the previous one.\n",
    "        pass\n",
    "    \n",
    "    def mutation(self, weights):\n",
    "        # introduces mutation in the weights\n",
    "        # randomly change the number by addind some random noise to maybe two-three weights in the weight vector.\n",
    "        # but the noise has to be scaled to the level of weight to which we are adding it.\n",
    "        pass\n",
    "    \n",
    "    def mating_pool(self, weights, fitness, numberOfParents):\n",
    "        # selects the best parents for reproducing new generations\n",
    "        # get the best parents by using the fitness scores, this method will not produce new offspring\n",
    "        pass\n",
    "    "
   ]
  }
 ],
 "metadata": {
  "kernelspec": {
   "display_name": "Python 3",
   "language": "python",
   "name": "python3"
  },
  "language_info": {
   "codemirror_mode": {
    "name": "ipython",
    "version": 3
   },
   "file_extension": ".py",
   "mimetype": "text/x-python",
   "name": "python",
   "nbconvert_exporter": "python",
   "pygments_lexer": "ipython3",
   "version": "3.7.5"
  }
 },
 "nbformat": 4,
 "nbformat_minor": 4
}
