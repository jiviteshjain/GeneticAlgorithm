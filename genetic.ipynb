{
 "cells": [
  {
   "cell_type": "code",
   "execution_count": 45,
   "metadata": {},
   "outputs": [],
   "source": [
    "import numpy as np\n",
    "import matplotlib.pyplot as plt\n",
    "import client_moodle as server\n",
    "%matplotlib inline"
   ]
  },
  {
   "cell_type": "code",
   "execution_count": 46,
   "metadata": {},
   "outputs": [],
   "source": [
    "# constants\n",
    "TEAM_ID = 'dGtgGZhUiTAytVHtKMwFEbEBZl9vcBwrsP5rOSTTrLQuOsDAY2'\n",
    "\n",
    "GENE_MIN = -10\n",
    "GENE_MAX = 10\n",
    "\n",
    "CHROMOSOME_SIZE = 11\n",
    "POPULATION_SIZE = 16 # Keep power of 2\n",
    "\n",
    "# GAUSS_NOISE_MEAN = 0.0\n",
    "# GAUSS_NOISE_STD = 1\n",
    "\n",
    "MUTATE_PROB = 0.3\n",
    "\n",
    "NUM_GENERATIONS = 10"
   ]
  },
  {
   "cell_type": "code",
   "execution_count": 47,
   "metadata": {},
   "outputs": [
    {
     "data": {
      "text/plain": [
       "11"
      ]
     },
     "execution_count": 47,
     "metadata": {},
     "output_type": "execute_result"
    }
   ],
   "source": [
    "INITIAL_WEIGHTS = [0.0, 0.1240317450077846, -6.211941063144333, 0.04933903144709126, 0.03810848157715883, 8.132366097133624e-05, -6.018769160916912e-05, -1.251585565299179e-07, 3.484096383229681e-08, 4.1614924993407104e-11, -6.732420176902565e-12]\n",
    "\n",
    "len(INITIAL_WEIGHTS)"
   ]
  },
  {
   "cell_type": "code",
   "execution_count": 48,
   "metadata": {},
   "outputs": [],
   "source": [
    "class Darwin:\n",
    "    '''\n",
    "    This class encapsulates a genetic algorithm runner over population consisting of weight vectors\n",
    "    '''\n",
    "    CHROMOSOME_SIZE = CHROMOSOME_SIZE\n",
    "    POPULATION_SIZE = POPULATION_SIZE\n",
    "\n",
    "    def __init__(self, val: list):\n",
    "        if len(val) != self.CHROMOSOME_SIZE:\n",
    "            raise ValueError\n",
    "\n",
    "        self.population = self.generate_random_from_seed(val)\n",
    "        self.avg_fitness = [] # maintained across generations\n",
    "        self.max_fitness_across_generations = None\n",
    "        self.best_chromosome_across_generations = None\n",
    "\n",
    "    def generate_random_from_seed(self, val: list) -> np.ndarray:\n",
    "        '''\n",
    "        Generates a population from a single seed chromosome\n",
    "        '''\n",
    "        if len(val) != self.CHROMOSOME_SIZE:\n",
    "            raise ValueError\n",
    "        \n",
    "        temp = [list(val) for i in range(self.POPULATION_SIZE)]\n",
    "        temp = np.array(temp, dtype=np.double)\n",
    "        \n",
    "        for idx, val in np.ndenumerate(temp):\n",
    "            noise = np.random.normal(loc=temp[idx]/10, scale=abs(temp[idx])/10)\n",
    "            temp[idx] += noise\n",
    "\n",
    "        return np.clip(noise + temp, GENE_MIN, GENE_MAX)\n",
    "\n",
    "    def get_fitness(self):\n",
    "\n",
    "        def error_to_fitness(train_err, valid_err):\n",
    "            return -valid_err\n",
    "\n",
    "        fitness = []\n",
    "        for chrom in self.population:\n",
    "            train_err, valid_err = server.get_errors(TEAM_ID, list(chrom))\n",
    "            fitness.append(error_to_fitness(train_err, valid_err))\n",
    "\n",
    "        fitness = np.array(fitness, dtype=np.double)\n",
    "        return fitness\n",
    "\n",
    "    @classmethod\n",
    "    def crossover(self, mom: np.ndarray, dad: np.ndarray):\n",
    "        '''\n",
    "        Generates offsprings out of the two parents\n",
    "        '''\n",
    "\n",
    "        def random_prefix(mom: np.ndarray, dad: np.ndarray):\n",
    "            '''\n",
    "            Random prefixes and suffixes\n",
    "            '''\n",
    "            thresh = np.random.randint(self.CHROMOSOME_SIZE) # index\n",
    "\n",
    "            alice = np.copy(dad) # mom mom dad\n",
    "            bob = np.copy(mom) # dad dad mom\n",
    "\n",
    "            alice[0:thresh] = mom[0:thresh]\n",
    "            bob[0:thresh] = dad[0:thresh]\n",
    "\n",
    "            return alice, bob\n",
    "\n",
    "        return random_prefix(mom, dad)\n",
    "\n",
    "    @classmethod\n",
    "    def mutate(self, population: np.ndarray):\n",
    "        '''\n",
    "        Mutates the population randomly\n",
    "        '''\n",
    "        \n",
    "        def add_gauss_noise(population: np.ndarray):\n",
    "            '''\n",
    "            Adds a gaussian noise to some of the elements\n",
    "            '''\n",
    "            means = np.mean(population, axis=0) # mean of each gene across the population - to keep mutations of level\n",
    "            \n",
    "            # TODO: vectorise\n",
    "            for idx, val in np.ndenumerate(population):\n",
    "                if np.random.random() < MUTATE_PROB:\n",
    "                    noise = np.random.normal(loc=means[idx[1]]/10, scale=abs(means[idx[1]])/10)\n",
    "                    population[idx] += noise\n",
    "\n",
    "            return np.clip(population, GENE_MIN, GENE_MAX)\n",
    "\n",
    "        return add_gauss_noise(population)\n",
    "\n",
    "\n",
    "    def breed(self):\n",
    "        '''\n",
    "        Creates the next generation\n",
    "        '''\n",
    "\n",
    "        def russian_roulette():\n",
    "            '''\n",
    "            Whenever a parent is required, one is selected with probability proportional to fitness\n",
    "            '''\n",
    "\n",
    "            def get_parent_index(thresholds):\n",
    "                draw = np.random.random() # in [0, 1)\n",
    "\n",
    "                for i in range(len(thresholds)):\n",
    "                    if draw < thresholds[i]:\n",
    "                        return i\n",
    "                return len(thresholds) - 1    \n",
    "            \n",
    "            fitness = self.get_fitness()\n",
    "            normalized_fitness = (fitness - np.min(fitness)) / np.ptp(fitness) # in [0,1]\n",
    "            \n",
    "            self.avg_fitness.append(np.mean(fitness))\n",
    "            self.update_best(fitness)\n",
    "\n",
    "            thresholds = []\n",
    "            thresh = 0.0\n",
    "            fitness_sum = np.sum(normalized_fitness)\n",
    "            for val in normalized_fitness:\n",
    "                thresh = thresh + (val/fitness_sum)\n",
    "                thresholds.append(thresh)\n",
    "\n",
    "            offsprings = []\n",
    "            for i in range(int(self.POPULATION_SIZE / 2)):\n",
    "                mom = self.population[get_parent_index(thresholds)]\n",
    "                dad = self.population[get_parent_index(thresholds)]\n",
    "\n",
    "                alice, bob = self.crossover(mom, dad)\n",
    "                offsprings.append(alice)\n",
    "                offsprings.append(bob)\n",
    "            return np.array(offsprings, dtype=np.double)\n",
    "        \n",
    "\n",
    "        offsprings = russian_roulette()\n",
    "        self.population = self.mutate(offsprings)\n",
    "    \n",
    "    def update_best(self, fitness: np.ndarray):\n",
    "        '''\n",
    "        Updates the best chromosome across generations parameter from self.population\n",
    "        '''\n",
    "        best_idx = np.argmax(fitness)\n",
    "        if (not self.max_fitness_across_generations) or fitness[best_idx] > self.max_fitness_across_generations:\n",
    "            self.max_fitness_across_generations = fitness[best_idx]\n",
    "            self.best_chromosome_across_generations = self.population[best_idx]\n",
    "\n",
    "    def train(self):\n",
    "\n",
    "        for i in range(NUM_GENERATIONS):\n",
    "            self.breed()\n",
    "\n",
    "        plt.plot(self.avg_fitness)\n",
    "        plt.xlabel('Generations', fontsize=12)\n",
    "        plt.ylabel('Average Fitness', fontsize=12)\n",
    "        plt.title('Average Fitness across Generations', fontsize=14)\n",
    "        plt.show()\n",
    "\n",
    "        # haven't calculated the fitness of the final population\n",
    "        fitness = self.get_fitness()\n",
    "        self.update_best(fitness)\n",
    "        \n",
    "        return self.best_chromosome_across_generations, self.max_fitness_across_generations\n"
   ]
  },
  {
   "cell_type": "code",
   "execution_count": 49,
   "metadata": {},
   "outputs": [
    {
     "data": {
      "text/plain": [
       "array([-9.52389949e-13,  1.31249982e-01, -7.48148225e+00,  5.68271839e-02,\n",
       "        4.45489616e-02,  8.84328378e-05, -5.83552657e-05, -1.39850331e-07,\n",
       "        4.04454700e-08,  3.93871626e-11, -8.92416691e-12])"
      ]
     },
     "execution_count": 49,
     "metadata": {},
     "output_type": "execute_result"
    }
   ],
   "source": [
    "darwin = Darwin(INITIAL_WEIGHTS)\n",
    "darwin.population[0]"
   ]
  },
  {
   "cell_type": "code",
   "execution_count": 50,
   "metadata": {},
   "outputs": [
    {
     "data": {
      "image/png": "[encoded data removed]",
      "text/plain": [
       "<Figure size 432x288 with 1 Axes>"
      ]
     },
     "metadata": {
      "needs_background": "light"
     },
     "output_type": "display_data"
    }
   ],
   "source": [
    "best_chromosome, final_fitness = darwin.train()"
   ]
  },
  {
   "cell_type": "code",
   "execution_count": 51,
   "metadata": {},
   "outputs": [
    {
     "data": {
      "text/plain": [
       "-3610554.007173871"
      ]
     },
     "execution_count": 51,
     "metadata": {},
     "output_type": "execute_result"
    }
   ],
   "source": [
    "final_fitness"
   ]
  },
  {
   "cell_type": "code",
   "execution_count": 52,
   "metadata": {},
   "outputs": [
    {
     "data": {
      "text/plain": [
       "array([-9.52389949e-13,  1.33447942e-01, -7.15933763e+00,  5.32262368e-02,\n",
       "        3.64367061e-02,  8.99285592e-05, -5.83753783e-05, -1.40836096e-07,\n",
       "        3.55126348e-08,  4.56260837e-11, -7.22241400e-12])"
      ]
     },
     "execution_count": 52,
     "metadata": {},
     "output_type": "execute_result"
    }
   ],
   "source": [
    "best_chromosome"
   ]
  },
  {
   "cell_type": "code",
   "execution_count": 53,
   "metadata": {},
   "outputs": [
    {
     "name": "stdout",
     "output_type": "stream",
     "text": [
      "\n"
     ]
    },
    {
     "data": {
      "text/plain": [
       "''"
      ]
     },
     "execution_count": 53,
     "metadata": {},
     "output_type": "execute_result"
    }
   ],
   "source": [
    "input()\n",
    "# to prevent submissions on running all cells"
   ]
  },
  {
   "cell_type": "code",
   "execution_count": 54,
   "metadata": {},
   "outputs": [
    {
     "data": {
      "text/plain": [
       "'successfully submitted'"
      ]
     },
     "execution_count": 54,
     "metadata": {},
     "output_type": "execute_result"
    }
   ],
   "source": [
    "status = server.submit(TEAM_ID, list(best_chromosome))\n",
    "status"
   ]
  },
  {
   "cell_type": "code",
   "execution_count": null,
   "metadata": {},
   "outputs": [],
   "source": []
  }
 ],
 "metadata": {
  "kernelspec": {
   "display_name": "Python 3",
   "language": "python",
   "name": "python3"
  },
  "language_info": {
   "codemirror_mode": {
    "name": "ipython",
    "version": 3
   },
   "file_extension": ".py",
   "mimetype": "text/x-python",
   "name": "python",
   "nbconvert_exporter": "python",
   "pygments_lexer": "ipython3",
   "version": "3.6.8"
  }
 },
 "nbformat": 4,
 "nbformat_minor": 4
}
