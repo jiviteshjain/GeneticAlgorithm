{
 "cells": [
  {
   "cell_type": "code",
   "execution_count": 1,
   "metadata": {},
   "outputs": [],
   "source": [
    "import numpy as np\n",
    "import matplotlib.pyplot as plt\n",
    "import client_moodle as server\n",
    "import random\n",
    "%matplotlib inline"
   ]
  },
  {
   "cell_type": "code",
   "execution_count": 2,
   "metadata": {},
   "outputs": [],
   "source": [
    "# constants\n",
    "TEAM_ID = 'dGtgGZhUiTAytVHtKMwFEbEBZl9vcBwrsP5rOSTTrLQuOsDAY2'\n",
    "\n",
    "GENE_MIN = -10\n",
    "GENE_MAX = 10\n",
    "\n",
    "CHROMOSOME_SIZE = 11\n",
    "POPULATION_SIZE = 8 # Keep power of 2\n",
    "\n",
    "# GAUSS_NOISE_MEAN = 0.0\n",
    "# GAUSS_NOISE_STD = 1\n",
    "\n",
    "MUTATE_PROB = 0.3\n",
    "\n",
    "NUM_GENERATIONS = 80"
   ]
  },
  {
   "cell_type": "code",
   "execution_count": 3,
   "metadata": {},
   "outputs": [
    {
     "data": {
      "text/plain": [
       "11"
      ]
     },
     "execution_count": 3,
     "metadata": {},
     "output_type": "execute_result"
    }
   ],
   "source": [
    "INITIAL_WEIGHTS =[-6.91707159e-13,  1.42310080e-01, -8.57642411e+00,  6.02740569e-02,4.57275757e-02,  1.25113374e-04, -7.35443216e-05, -2.06094947e-07,4.42275928e-08,  6.63375543e-11, -8.78324242e-12]\n",
    "len(INITIAL_WEIGHTS)"
   ]
  },
  {
   "cell_type": "code",
   "execution_count": 4,
   "metadata": {},
   "outputs": [],
   "source": [
    "class Darwin:\n",
    "    '''\n",
    "    This class encapsulates a genetic algorithm runner over population consisting of weight vectors\n",
    "    '''\n",
    "\n",
    "    def __init__(self, val: list):\n",
    "        if len(val) != POPULATION_SIZE:\n",
    "            raise ValueError\n",
    "\n",
    "        self.population = np.array(val, dtype=np.double)\n",
    "        self.weight_fitness_map = [] # consists of tuples (vector,fitness) for all generations\n",
    "        self.best_fit = []  # stores best_fit for each of the generation used for plotting\n",
    "        \n",
    "\n",
    "    def Sort_Tuple(self, tup):\n",
    "        tup.sort(key = lambda x: x[1],reverse = True)  \n",
    "        return tup  \n",
    "        \n",
    "    def get_fitness(self):\n",
    "        \n",
    "        # try changing this error_to_fitness function\n",
    "        def error_to_fitness(train_err, valid_err):\n",
    "            return 1/(train_err + 5*valid_err)\n",
    "        \n",
    "        fitness = []\n",
    "        weight_fit_map = []\n",
    "        for chrom in self.population:\n",
    "            \n",
    "            train_err, valid_err = server.get_errors(TEAM_ID, list(chrom))\n",
    "            fit = error_to_fitness(train_err, valid_err)\n",
    "                \n",
    "            fitness.append(fit)\n",
    "            weight_fit_map.append((chrom,fit))\n",
    "            self.weight_fitness_map.append((chrom,fit,valid_err,train_err)) # this adds a tuple to this list\n",
    "        \n",
    "        weight_fit_map = self.Sort_Tuple(weight_fit_map)\n",
    "        \n",
    "        fitness = np.array(fitness, dtype=np.double)\n",
    "        return fitness, weight_fit_map\n",
    "\n",
    "    @classmethod\n",
    "    def crossover(self, mom: np.ndarray, dad: np.ndarray):\n",
    "        '''\n",
    "        Generates offsprings out of the two parents\n",
    "        '''\n",
    "\n",
    "        def random_prefix(mom: np.ndarray, dad: np.ndarray):\n",
    "            '''\n",
    "            Random prefixes and suffixes\n",
    "            '''\n",
    "            thresh = np.random.randint(CHROMOSOME_SIZE) # index\n",
    "\n",
    "            alice = np.copy(dad) # mom mom dad\n",
    "            bob = np.copy(mom) # dad dad mom\n",
    "\n",
    "            alice[0:thresh] = mom[0:thresh]\n",
    "            bob[0:thresh] = dad[0:thresh]\n",
    "\n",
    "            return alice, bob\n",
    "\n",
    "        return random_prefix(mom, dad)\n",
    "    \n",
    "    def normal_crossover(self, mom: np.ndarray, dad:np.ndarray):\n",
    "        thresh = np.random.randint(CHROMOSOME_SIZE)\n",
    "        child = np.copy(dad)\n",
    "        child[0:thresh] = mom[0:thresh]\n",
    "        return child\n",
    "\n",
    "    @classmethod\n",
    "    def mutate(self, population: np.ndarray):\n",
    "        '''\n",
    "        Mutates the population randomly\n",
    "        '''\n",
    "        \n",
    "        def add_gauss_noise(population: np.ndarray):\n",
    "            '''\n",
    "            Adds a gaussian noise to some of the elements\n",
    "            '''\n",
    "            means = np.mean(population, axis=0) # mean of each gene across the population - to keep mutations of level\n",
    "            \n",
    "            # TODO: vectorise\n",
    "            for idx, val in np.ndenumerate(population):\n",
    "                if np.random.random() < MUTATE_PROB:\n",
    "                    noise = np.random.normal(loc=means[idx[1]]/10, scale=abs(means[idx[1]])/10)\n",
    "                    population[idx] += noise\n",
    "\n",
    "            return np.clip(population, GENE_MIN, GENE_MAX)\n",
    "        \n",
    "        def add_uniform_noise(population: np.ndarray):\n",
    "            \n",
    "            means = np.mean(population, axis=0)\n",
    "            delta = means/20                   # to get the five percent of it\n",
    "            \n",
    "            for weights in population:\n",
    "                # add or subtract 5 percent of the mean\n",
    "                guess = random.randint(0,2)\n",
    "                noise = np.random.uniform(0,delta)\n",
    "                \n",
    "                if guess == 1:\n",
    "                    # add the uniformly generated noise\n",
    "                    weights = weights + noise\n",
    "                else:\n",
    "                    # subtract the uniformly generated noi\n",
    "                    weights = weights - noise\n",
    "            return np.clip(population, GENE_MIN, GENE_MAX)\n",
    "        \n",
    "        return add_gauss_noise(population)\n",
    "\n",
    "\n",
    "    def breed(self):\n",
    "        '''\n",
    "        Creates the next generation\n",
    "        '''\n",
    "\n",
    "        def russian_roulette():\n",
    "            '''\n",
    "            Whenever a parent is required, one is selected with probability proportional to fitness\n",
    "            '''\n",
    "\n",
    "            def get_parent_index(thresholds):\n",
    "                draw = np.random.random() # in [0, 1)\n",
    "\n",
    "                for i in range(len(thresholds)):\n",
    "                    if draw < thresholds[i]:\n",
    "                        return i\n",
    "                return len(thresholds) - 1    \n",
    "            \n",
    "            fitness, weight_fit_map = self.get_fitness()\n",
    "            self.best_fit.append(weight_fit_map[0][1])       # adds the best weight vector for this generation\n",
    "            normalized_fitness = (fitness - np.min(fitness)) / np.ptp(fitness) # in [0,1]\n",
    "\n",
    "            thresholds = []\n",
    "            thresh = 0.0\n",
    "            fitness_sum = np.sum(normalized_fitness)\n",
    "            for val in normalized_fitness:\n",
    "                thresh = thresh + (val/fitness_sum)\n",
    "                thresholds.append(thresh)\n",
    "\n",
    "            offsprings = []\n",
    "            for i in range(int(POPULATION_SIZE / 2)):\n",
    "                mom = self.population[get_parent_index(thresholds)]\n",
    "                dad = self.population[get_parent_index(thresholds)]\n",
    "\n",
    "                alice, bob = self.crossover(mom, dad)\n",
    "                offsprings.append(alice)\n",
    "                offsprings.append(bob)\n",
    "            offsprings = np.array(offsprings, dtype=np.double)\n",
    "            self.population = self.mutate(offsprings)\n",
    "        \n",
    "        def normal_breed():\n",
    "            fitness, weight_fit_map = self.get_fitness()\n",
    "            self.best_fit.append(weight_fit_map[0][1])       # adds the best weight vector for this generation\n",
    "            \n",
    "            offsprings = []\n",
    "            for i in range(4):\n",
    "                for j in range(i+1,4):\n",
    "                    mom = weight_fit_map[i][0]\n",
    "                    dad = weight_fit_map[j][0]\n",
    "                    \n",
    "                    alice = self.normal_crossover(mom,dad)\n",
    "                    offsprings.append(alice)\n",
    "                    \n",
    "            assert len(offsprings) == 6\n",
    "            offsprings.append(weight_fit_map[0][0])\n",
    "            offsprings.append(weight_fit_map[1][0])\n",
    "            offsprings = np.array(offsprings, dtype=np.double)\n",
    "            temp = self.mutate(offsprings)\n",
    "            temp[POPULATION_SIZE-1] = weight_fit_map[0][0]   # this adds the best from the previous population\n",
    "            temp[POPULATION_SIZE-2] = weight_fit_map[1][0]\n",
    "            self.population = temp\n",
    "        \n",
    "#         normal_breed()\n",
    "        russian_roulette()\n",
    "        \n",
    "    \n",
    "    def train(self):\n",
    "\n",
    "        for i in range(NUM_GENERATIONS):\n",
    "            self.breed()\n",
    "        \n",
    "        # haven't calculated the fitness of the final population\n",
    "        fitness, weight_fit_map = self.get_fitness()\n",
    "        self.best_fit.append(weight_fit_map[0][1])\n",
    "        \n",
    "        plt.plot(self.best_fit)\n",
    "        plt.xlabel('Generations', fontsize=12)\n",
    "        plt.ylabel('Best Fitness', fontsize=12)\n",
    "        plt.title('Best Fitness across Generations', fontsize=14)\n",
    "        plt.show()\n",
    "        \n",
    "        # calculate the best eight vectors\n",
    "        self.weight_fitness_map = self.Sort_Tuple(self.weight_fitness_map)\n",
    "        next_parents = np.array(self.weight_fitness_map)\n",
    "        next_parents = next_parents[0:8]  # getting all the weight vectors\n",
    "        return next_parents,self.weight_fitness_map[0]\n"
   ]
  },
  {
   "cell_type": "code",
   "execution_count": 5,
   "metadata": {},
   "outputs": [],
   "source": [
    "initial_vector = [\n",
    "    [-6.91707159e-13,  1.42310080e-01, -8.57642411e+00,  6.02740569e-02,\n",
    "     4.57275757e-02,  1.25113374e-04, -7.35443216e-05, -2.06094947e-07,\n",
    "     4.42275928e-08,  6.63375543e-11, -8.78324242e-12],\n",
    "    [-7.11707159e-13,  2.02310080e-01, -8.57642411e+00,  6.10740569e-02,\n",
    "     4.57275757e-02,  1.25113374e-04, -6.35443216e-05, -2.03094947e-07,\n",
    "     4.42275928e-08,  6.63375543e-11, -8.78324242e-12],\n",
    "    [-5.91707159e-13,  1.42310080e-01, -8.57642411e+00,  6.02740569e-02,\n",
    "     4.57275757e-02,  1.25113374e-04, -7.35443216e-05, -1.86094947e-07,\n",
    "     4.22275928e-08,  6.53365543e-11, -9.38324242e-12],\n",
    "    [-6.91707159e-13,  1.52610080e-01, -9.57642411e+00,  6.02740569e-02,\n",
    "     4.57275757e-02,  1.16713374e-04, -7.35443216e-05, -2.06094947e-07,\n",
    "     4.42275928e-08,  6.63375543e-11, -8.78324242e-12],\n",
    "    [-6.91705099e-13,  1.42310080e-01, -8.57642411e+00,  6.12740569e-02,\n",
    "     5.57275757e-02,  1.25113374e-04, -7.25443216e-05, -2.06094947e-07,\n",
    "     4.47775928e-08,  6.63375543e-11, -8.78324242e-12],\n",
    "    [-6.91707159e-13,  1.12310080e-01, -8.57642411e+00,  6.32740569e-02,\n",
    "     4.57275757e-02,  0.85113374e-04, -7.35443216e-05, -2.28094947e-07,\n",
    "     4.42274088e-08,  6.63375543e-11, -7.9324242e-12],\n",
    "    [-6.93457159e-13,  1.42310080e-01, -8.57642411e+00,  6.02740569e-02,\n",
    "     4.57275757e-02,  0.95113374e-04, -7.35443216e-05, -2.06094947e-07,\n",
    "     4.42275928e-08,  6.63375543e-11, -8.78324242e-12],\n",
    "    [-6.71707159e-13,  1.29560080e-01, -8.57642411e+00,  5.8176569e-02,\n",
    "     4.67856757e-02,  1.00013374e-04, -6.95443216e-05, -2.06094947e-07,\n",
    "     4.244575928e-08,  7.000075543e-11, -8.78324242e-12],\n",
    "]"
   ]
  },
  {
   "cell_type": "code",
   "execution_count": 6,
   "metadata": {},
   "outputs": [
    {
     "data": {
      "text/plain": [
       "array([-6.91707159e-13,  1.42310080e-01, -8.57642411e+00,  6.02740569e-02,\n",
       "        4.57275757e-02,  1.25113374e-04, -7.35443216e-05, -2.06094947e-07,\n",
       "        4.42275928e-08,  6.63375543e-11, -8.78324242e-12])"
      ]
     },
     "execution_count": 6,
     "metadata": {},
     "output_type": "execute_result"
    }
   ],
   "source": [
    "darwin = Darwin(initial_vector)\n",
    "darwin.population[0]"
   ]
  },
  {
   "cell_type": "code",
   "execution_count": 7,
   "metadata": {},
   "outputs": [
    {
     "data": {
      "image/png": "[encoded data removed]",
      "text/plain": [
       "<Figure size 432x288 with 1 Axes>"
      ]
     },
     "metadata": {
      "needs_background": "light"
     },
     "output_type": "display_data"
    }
   ],
   "source": [
    "next_parents,best_pair = darwin.train()"
   ]
  },
  {
   "cell_type": "code",
   "execution_count": 8,
   "metadata": {},
   "outputs": [
    {
     "name": "stdout",
     "output_type": "stream",
     "text": [
      "1.0329449759961564e-07\n"
     ]
    }
   ],
   "source": [
    "best_fitness = best_pair[1]\n",
    "print(best_fitness)"
   ]
  },
  {
   "cell_type": "code",
   "execution_count": 9,
   "metadata": {},
   "outputs": [
    {
     "name": "stdout",
     "output_type": "stream",
     "text": [
      "[-6.91707159e-13  1.42310080e-01 -8.57642411e+00  6.02740569e-02\n",
      "  4.57275757e-02  1.25113374e-04 -7.35443216e-05 -2.06094947e-07\n",
      "  4.42275928e-08  6.63375543e-11 -8.78324242e-12]\n"
     ]
    }
   ],
   "source": [
    "best_chromosome = best_pair[0]\n",
    "print(best_chromosome)"
   ]
  },
  {
   "cell_type": "code",
   "execution_count": 10,
   "metadata": {},
   "outputs": [
    {
     "name": "stdout",
     "output_type": "stream",
     "text": [
      "Vector\n",
      "[-6.91707159e-13  1.42310080e-01 -8.57642411e+00  6.02740569e-02\n",
      "  4.57275757e-02  1.25113374e-04 -7.35443216e-05 -2.06094947e-07\n",
      "  4.42275928e-08  6.63375543e-11 -8.78324242e-12]\n",
      "Fitness: 1.0329449759961564e-07\n",
      "Train: 1086281.3341038285 Val: 4249651.113179501\n",
      "\n",
      "Vector\n",
      "[-6.91707159e-13  1.52610080e-01 -9.57642411e+00  6.02740569e-02\n",
      "  4.57275757e-02  1.16713374e-04 -7.35443216e-05 -2.06094947e-07\n",
      "  4.42275928e-08  6.63375543e-11 -8.78324242e-12]\n",
      "Fitness: 3.361013528187294e-08\n",
      "Train: 4933945.701652662 Val: 5083201.422350008\n",
      "\n",
      "Vector\n",
      "[-6.91707159e-13  1.45396240e-01 -8.57642411e+00  6.02740569e-02\n",
      "  4.57275757e-02  1.45430362e-04 -7.35443216e-05 -2.06094947e-07\n",
      "  4.42275928e-08  6.63375543e-11 -8.78324242e-12]\n",
      "Fitness: 1.9055365557085646e-08\n",
      "Train: 9451038.336650703 Val: 5223465.679903443\n",
      "\n",
      "Vector\n",
      "[-6.91707159e-13  1.49291803e-01 -8.57642411e+00  7.14137075e-02\n",
      "  5.04957223e-02  1.16713374e-04 -7.53457211e-05 -2.06094947e-07\n",
      "  4.42275928e-08  6.63375543e-11 -8.78324242e-12]\n",
      "Fitness: 1.5128762266955135e-08\n",
      "Train: 9250362.574076105 Val: 19847447.75348698\n",
      "\n",
      "Vector\n",
      "[-7.82750261e-13  1.70748939e-01 -1.00000000e+01  6.02740569e-02\n",
      "  4.50254714e-02  1.49064923e-04 -7.35443216e-05 -2.09358972e-07\n",
      "  4.42275928e-08  6.60826940e-11 -8.78324242e-12]\n",
      "Fitness: 1.156387070291548e-08\n",
      "Train: 16275153.516856309 Val: 5100467.379836496\n",
      "\n",
      "Vector\n",
      "[-6.91707159e-13  1.42310080e-01 -8.57642411e+00  6.02740569e-02\n",
      "  4.57275757e-02  1.25113374e-04 -7.35443216e-05 -2.18377647e-07\n",
      "  4.42275928e-08  7.77888529e-11 -8.78324242e-12]\n",
      "Fitness: 1.1414695759124803e-08\n",
      "Train: 15894136.03269964 Val: 8135684.570367701\n",
      "\n",
      "Vector\n",
      "[-6.93457159e-13  1.42310080e-01 -8.57642411e+00  6.02740569e-02\n",
      "  4.57275757e-02  9.51133740e-05 -7.35443216e-05 -2.06094947e-07\n",
      "  4.42275928e-08  6.63375543e-11 -8.78324242e-12]\n",
      "Fitness: 1.0427595395787461e-08\n",
      "Train: 14812327.879220804 Val: 21837746.995890044\n",
      "\n",
      "Vector\n",
      "[-6.91707159e-13  1.52610080e-01 -9.57642411e+00  7.08384831e-02\n",
      "  4.57275757e-02  1.22748259e-04 -7.40475299e-05 -2.06094947e-07\n",
      "  4.42275928e-08  6.63375543e-11 -8.78324242e-12]\n",
      "Fitness: 9.846911637971607e-09\n",
      "Train: 19030789.130906377 Val: 6400738.368812611\n",
      "\n"
     ]
    }
   ],
   "source": [
    "for parent in next_parents:\n",
    "    print('Vector')\n",
    "    print(parent[0])\n",
    "    print('Fitness:', parent[1])\n",
    "    print('Train:', parent[2], 'Val:', parent[3])\n",
    "    print('')"
   ]
  },
  {
   "cell_type": "code",
   "execution_count": 11,
   "metadata": {},
   "outputs": [
    {
     "name": "stdout",
     "output_type": "stream",
     "text": [
      "\n"
     ]
    },
    {
     "data": {
      "text/plain": [
       "''"
      ]
     },
     "execution_count": 11,
     "metadata": {},
     "output_type": "execute_result"
    }
   ],
   "source": [
    "input()\n",
    "# to prevent submissions on running all cells"
   ]
  },
  {
   "cell_type": "code",
   "execution_count": 12,
   "metadata": {},
   "outputs": [
    {
     "data": {
      "text/plain": [
       "'successfully submitted'"
      ]
     },
     "execution_count": 12,
     "metadata": {},
     "output_type": "execute_result"
    }
   ],
   "source": [
    "# status = server.submit(TEAM_ID, list(best_chromosome))\n",
    "# status"
   ]
  },
  {
   "cell_type": "code",
   "execution_count": 14,
   "metadata": {},
   "outputs": [],
   "source": [
    "for parent in next_parents[1:]:\n",
    "    status = server.submit(TEAM_ID, list(parent[0]))"
   ]
  },
  {
   "cell_type": "code",
   "execution_count": null,
   "metadata": {},
   "outputs": [],
   "source": []
  }
 ],
 "metadata": {
  "kernelspec": {
   "display_name": "Python 3",
   "language": "python",
   "name": "python3"
  },
  "language_info": {
   "codemirror_mode": {
    "name": "ipython",
    "version": 3
   },
   "file_extension": ".py",
   "mimetype": "text/x-python",
   "name": "python",
   "nbconvert_exporter": "python",
   "pygments_lexer": "ipython3",
   "version": "3.6.8"
  }
 },
 "nbformat": 4,
 "nbformat_minor": 4
}
